{
 "cells": [
  {
   "cell_type": "code",
   "execution_count": 1,
   "metadata": {},
   "outputs": [],
   "source": [
    "#default_exp professional_notebooks.notebook_convert"
   ]
  },
  {
   "cell_type": "markdown",
   "metadata": {},
   "source": [
    "# 01. Convert Notebooks to *.py and *.md\n",
    "\n",
    "> This tool allows conversion from an ipynb notebook into .py or .md files."
   ]
  },
  {
   "cell_type": "code",
   "execution_count": 2,
   "metadata": {},
   "outputs": [],
   "source": [
    "#export\n",
    "from typing import List, Dict, Optional\n",
    "import json\n",
    "import os\n",
    "import sys"
   ]
  },
  {
   "cell_type": "markdown",
   "metadata": {},
   "source": [
    "#hide\n",
    "\n",
    "First we will implement a helper function that allows us to find all notebooks. For that we will scan the folder provided."
   ]
  },
  {
   "cell_type": "code",
   "execution_count": 3,
   "metadata": {},
   "outputs": [],
   "source": [
    "#export\n",
    "def _get_notebooks(folder: str) -> List[str]:\n",
    "    nbs = []\n",
    "    for root, dirs, files in os.walk(folder):\n",
    "        if \".ipynb_checkpoints\" in root:\n",
    "            continue\n",
    "        for fname in files:\n",
    "            if fname.endswith(\".ipynb\"):\n",
    "                nbs.append(os.path.join(root, fname))\n",
    "    return nbs"
   ]
  },
  {
   "cell_type": "markdown",
   "metadata": {},
   "source": [
    "#hide\n",
    "\n",
    "A quick test on the source folder."
   ]
  },
  {
   "cell_type": "code",
   "execution_count": 4,
   "metadata": {},
   "outputs": [
    {
     "data": {
      "text/plain": [
       "['.\\\\notebook_convert.ipynb']"
      ]
     },
     "execution_count": 4,
     "metadata": {},
     "output_type": "execute_result"
    }
   ],
   "source": [
    "#hide\n",
    "_get_notebooks(\".\")"
   ]
  },
  {
   "cell_type": "markdown",
   "metadata": {},
   "source": [
    "#hide\n",
    "\n",
    "Now that this works. Let's load the first notebook."
   ]
  },
  {
   "cell_type": "code",
   "execution_count": 5,
   "metadata": {},
   "outputs": [],
   "source": [
    "#export\n",
    "def _get_notebook(file_path: str) -> Dict:\n",
    "    with open(file_path, \"r\") as f:\n",
    "        return json.loads(f.read())"
   ]
  },
  {
   "cell_type": "code",
   "execution_count": 6,
   "metadata": {},
   "outputs": [
    {
     "name": "stdout",
     "output_type": "stream",
     "text": [
      "['cells', 'metadata', 'nbformat', 'nbformat_minor']\n",
      "cell 0\n",
      "{'cell_type': 'code', 'execution_count': 1, 'metadata': {}, 'outputs': [], 'source': ['#default_exp professional_notebooks.notebook_convert']}\n",
      "cell 1\n",
      "{'cell_type': 'markdown', 'metadata': {}, 'source': ['# 01. Convert Notebooks to *.py and *.md\\n', '\\n', '> This tool allows conversion from an ipynb notebook into .py or .md files.']}\n",
      "\n",
      "metadata\n",
      "{'kernelspec': {'display_name': 'Python 3', 'language': 'python', 'name': 'python3'}, 'language_info': {'codemirror_mode': {'name': 'ipython', 'version': 3}, 'file_extension': '.py', 'mimetype': 'text/x-python', 'name': 'python', 'nbconvert_exporter': 'python', 'pygments_lexer': 'ipython3', 'version': '3.7.6'}}\n",
      "\n",
      "nbformat\n",
      "4\n",
      "\n",
      "nbformat_minor\n",
      "4\n"
     ]
    }
   ],
   "source": [
    "#hide\n",
    "file_path = \"notebook_convert.ipynb\"\n",
    "notebook = _get_notebook(file_path)\n",
    "print(list(notebook.keys()))\n",
    "\n",
    "print(\"cell 0\")\n",
    "print(notebook[\"cells\"][0])\n",
    "\n",
    "print(\"cell 1\")\n",
    "print(notebook[\"cells\"][1])\n",
    "\n",
    "print()\n",
    "print(\"metadata\")\n",
    "print(notebook[\"metadata\"])\n",
    "\n",
    "print()\n",
    "print(\"nbformat\")\n",
    "print(notebook[\"nbformat\"])\n",
    "\n",
    "print()\n",
    "print(\"nbformat_minor\")\n",
    "print(notebook[\"nbformat_minor\"])"
   ]
  },
  {
   "cell_type": "markdown",
   "metadata": {},
   "source": [
    "#hide\n",
    "\n",
    "## Extracting code from the notebook\n",
    "\n",
    "With the notebook loaded it is time to extract info:\n",
    "\n",
    "1. Get the Export Path\n",
    "2. Get the Export Cells\n",
    "3. Combine all the cells into python code"
   ]
  },
  {
   "cell_type": "code",
   "execution_count": 7,
   "metadata": {},
   "outputs": [],
   "source": [
    "#export\n",
    "def _get_default_exp(data) -> str:\n",
    "    for cell in data[\"cells\"]:\n",
    "        if cell[\"cell_type\"] == \"code\" and len(cell[\"source\"]) > 0 and cell[\"source\"][0].startswith(\"#default_exp \"):\n",
    "            return cell[\"source\"][0].replace(\"#default_exp \", \"\")"
   ]
  },
  {
   "cell_type": "code",
   "execution_count": 8,
   "metadata": {},
   "outputs": [
    {
     "data": {
      "text/plain": [
       "'professional_notebooks.notebook_convert'"
      ]
     },
     "execution_count": 8,
     "metadata": {},
     "output_type": "execute_result"
    }
   ],
   "source": [
    "#hide\n",
    "_get_default_exp(notebook)"
   ]
  },
  {
   "cell_type": "code",
   "execution_count": 9,
   "metadata": {},
   "outputs": [],
   "source": [
    "#export\n",
    "def _get_exported_cells(data) -> List:\n",
    "    exported_cells = []\n",
    "    for cell in data[\"cells\"]:\n",
    "        if cell[\"cell_type\"] == \"code\" and len(cell[\"source\"]) > 0 and cell[\"source\"][0].startswith(\"#export\"):\n",
    "            cell[\"source\"][0] = cell[\"source\"][0].replace(\"#export\", \"# Cell: {}\".format(len(exported_cells)))\n",
    "            exported_cells.append(cell)\n",
    "    return exported_cells"
   ]
  },
  {
   "cell_type": "code",
   "execution_count": 10,
   "metadata": {},
   "outputs": [],
   "source": [
    "#hide\n",
    "cells = _get_exported_cells(notebook)"
   ]
  },
  {
   "cell_type": "code",
   "execution_count": 11,
   "metadata": {},
   "outputs": [],
   "source": [
    "#export\n",
    "def _combine_cells_to_code(cells, file_path: str) -> str:\n",
    "    code = \"# AUTOGENERATED FROM: {}\\n\\n\".format(file_path)\n",
    "    for cell in cells:\n",
    "        for line in cell[\"source\"]:\n",
    "            code += line\n",
    "        # Ensure there are two empty lines between cells\n",
    "        code += \"\\n\\n\\n\"\n",
    "        while code.endswith(\"\\n\\n\\n\\n\"):\n",
    "            code = code[:-2]\n",
    "    \n",
    "    # Ensure there is a single new line at file end.\n",
    "    while code.endswith(\"\\n\\n\"):\n",
    "        code = code[:-2]\n",
    "    return code"
   ]
  },
  {
   "cell_type": "code",
   "execution_count": 12,
   "metadata": {},
   "outputs": [
    {
     "name": "stdout",
     "output_type": "stream",
     "text": [
      "# AUTOGENERATED FROM: notebook_convert.ipynb\n",
      "\n",
      "# Cell: 0\n",
      "from typing import List, Dict, Optional\n",
      "import json\n",
      "import os\n",
      "import sys\n",
      "\n",
      "\n",
      "# Cell: 1\n",
      "def _get_notebooks(folder: str) -> List[str]:\n",
      "    nbs = []\n",
      "    for root, dirs, files in os.walk(folder):\n",
      "        if \".ipynb_checkpoints\" in root:\n",
      "            continue\n",
      "        for fname in files:\n",
      "            if fname.endswith(\".ipynb\"):\n",
      "                nbs.append(os.path.join(root, fname))\n",
      "    return nbs\n",
      "\n",
      "\n",
      "# Cell: 2\n",
      "def _get_notebook(file_path: str) -> Dict:\n",
      "    with open(file_path, \"r\") as f:\n",
      "        return json.loads(f.read())\n",
      "\n",
      "\n",
      "# Cell: 3\n",
      "def _get_default_exp(data) -> str:\n",
      "    for cell in data[\"cells\"]:\n",
      "        if cell[\"cell_type\"] == \"code\" and len(cell[\"source\"]) > 0 and cell[\"source\"][0].startswith(\"#default_exp \"):\n",
      "            return cell[\"source\"][0].replace(\"#default_exp \", \"\")\n",
      "\n",
      "\n",
      "# Cell: 4\n",
      "def _get_exported_cells(data) -> List:\n",
      "    exported_cells = []\n",
      "    for cell in data[\"cells\"]:\n",
      "        if cell[\"cell_type\"] == \"code\" and len(cell[\"source\"]) > 0 and cell[\"source\"][0].startswith(\"#export\"):\n",
      "            cell[\"source\"][0] = cell[\"source\"][0].replace(\"#export\", \"# Cell: {}\".format(len(exported_cells)))\n",
      "            exported_cells.append(cell)\n",
      "    return exported_cells\n",
      "\n",
      "\n",
      "# Cell: 5\n",
      "def _combine_cells_to_code(cells, file_path: str) -> str:\n",
      "    code = \"# AUTOGENERATED FROM: {}\\n\\n\".format(file_path)\n",
      "    for cell in cells:\n",
      "        for line in cell[\"source\"]:\n",
      "            code += line\n",
      "        # Ensure there are two empty lines between cells\n",
      "        code += \"\\n\\n\\n\"\n",
      "        while code.endswith(\"\\n\\n\\n\\n\"):\n",
      "            code = code[:-2]\n",
      "    \n",
      "    # Ensure there is a single new line at file end.\n",
      "    while code.endswith(\"\\n\\n\"):\n",
      "        code = code[:-2]\n",
      "    return code\n",
      "\n",
      "\n",
      "# Cell: 6\n",
      "def _write_py(root: str, notebook, file_path: str) -> None:\n",
      "    exported_cells = _get_exported_cells(notebook)\n",
      "    py_package = _get_default_exp(notebook)\n",
      "    py_path = os.path.join(root, py_package.replace(\".\", os.sep) + \".py\")\n",
      "    code = _combine_cells_to_code(cells, file_path)\n",
      "    package_path = os.path.join(root, os.sep.join(py_package.split(\".\")[:-1]))\n",
      "    os.makedirs(package_path, exist_ok=True)\n",
      "    with open(py_path, \"w\") as f:\n",
      "        f.write(code)\n",
      "\n",
      "\n",
      "# Cell: 7\n",
      "def notebook2py(project_root: str, nb_root: str) -> None:\n",
      "    \"\"\"\n",
      "    Convert all notebooks in the folder.\n",
      "    \n",
      "    :param project_root: The root directory of the project. The default exp path is relative to this folder.\n",
      "    :param nb_root: The root directory of all the notebooks. Only notebooks in this or any subfolder will be considered.\n",
      "    \"\"\"\n",
      "    notebooks = _get_notebooks(nb_root)\n",
      "    for nb_path in notebooks:\n",
      "        clean_nb_path = nb_path.replace(nb_root+os.sep, \"\")\n",
      "        print(\"Converting to py: {}\".format(clean_nb_path))\n",
      "        notebook = _get_notebook(nb_path)\n",
      "        _write_py(project_root, notebook, clean_nb_path)\n",
      "\n",
      "\n",
      "# Cell: 8\n",
      "def _extract_doc(source:str) -> str:\n",
      "    lines = source.split(\"\\n\")\n",
      "    docs = []\n",
      "    mode = 0\n",
      "    for line in lines:\n",
      "        if mode == 0:\n",
      "            if (\"def \" in line or \"class \" in line) and not (\"def _\" in line or \"class _\" in line):\n",
      "                current_doc = [line, \"\"]\n",
      "                mode = 1\n",
      "        elif mode == 1:\n",
      "            if \"\\\"\\\"\\\"\" in line:\n",
      "                mode = 2\n",
      "            else:\n",
      "                mode = 0\n",
      "                docs.append(current_doc)\n",
      "        elif mode == 2:\n",
      "            if \"\\\"\\\"\\\"\" in line:\n",
      "                mode = 0\n",
      "                docs.append(current_doc)\n",
      "            else:\n",
      "                current_doc[1] += line.lstrip() + \"\\n\"                \n",
      "        \n",
      "    if len(docs) == 0:\n",
      "        return \"\"\n",
      "    \n",
      "    output = \"\"\n",
      "    for doc in docs:\n",
      "        output += \"**\" + doc[0] + \"**\\n\\n\"\n",
      "        output += doc[1].replace(\":param\", \"*\")\n",
      "        output += \"\\n\\n\"\n",
      "        \n",
      "    return output\n",
      "\n",
      "\n",
      "# Cell: 9\n",
      "def _get_doc(data) -> str:\n",
      "    doc = \"\"\n",
      "    title = None\n",
      "    for cell in data[\"cells\"]:\n",
      "        # Example Cell\n",
      "        if cell[\"cell_type\"] == \"code\" and len(cell[\"source\"]) > 0 and not cell[\"source\"][0].startswith(\"#export\") and not cell[\"source\"][0].startswith(\"#hide\") and not cell[\"source\"][0].startswith(\"#default_exp\"):\n",
      "            doc += \"Example:\\n\"\n",
      "            doc += \"```python\\n\"\n",
      "            for line in cell[\"source\"]:\n",
      "                doc += line\n",
      "            doc += \"\\n```\\n\"\n",
      "            doc += \"Output:\\n\"\n",
      "            doc += \"```\\n\"\n",
      "            for outp in cell[\"outputs\"]:\n",
      "                if \"text\" in outp:\n",
      "                    for entry in outp[\"text\"]:\n",
      "                        doc += entry\n",
      "                if \"traceback\" in outp:\n",
      "                    for entry in outp[\"traceback\"]:\n",
      "                        while entry.find('\\x1b') >= 0:\n",
      "                            start = entry.find('\\x1b')\n",
      "                            end = entry.find(\"m\", start)\n",
      "                            entry = entry[:start] + entry[end+1:]\n",
      "                        doc += entry + \"\\n\"\n",
      "            doc += \"\\n```\\n\"\n",
      "            doc += \"\\n\"\n",
      "\n",
      "        # Export Cell\n",
      "        if cell[\"cell_type\"] == \"code\" and len(cell[\"source\"]) > 0 and cell[\"source\"][0].startswith(\"#export\"):\n",
      "            source = \"\".join(cell[\"source\"])\n",
      "            doc += _extract_doc(source)\n",
      "            \n",
      "        # Regular Markdown Cell\n",
      "        if cell[\"cell_type\"] == \"markdown\" and len(cell[\"source\"]) > 0 and not cell[\"source\"][0].startswith(\"#hide\"):\n",
      "            for line in cell[\"source\"]:\n",
      "                if line.startswith(\"# \") and title is None:\n",
      "                    title = line[2:]\n",
      "                doc += line\n",
      "            doc += \"\\n\\n\"\n",
      "    return doc, title\n",
      "\n",
      "\n",
      "# Cell: 10\n",
      "def _write_md(root: str, notebook) -> str:\n",
      "    doc_path = os.path.join(root, \"docs\")\n",
      "    os.makedirs(doc_path, exist_ok=True)\n",
      "    \n",
      "    md_name = _get_default_exp(notebook) + \".md\"\n",
      "    md_path = os.path.join(root, \"docs\", md_name)\n",
      "    doc, title = _get_doc(notebook)\n",
      "    with open(md_path, \"w\") as f:\n",
      "        f.write(doc)\n",
      "    return md_name, title\n",
      "\n",
      "\n",
      "# Cell: 11\n",
      "README_TEMPLATE = \"\"\"# Documentation\n",
      "\n",
      "## Documentation\n",
      "\n",
      "{}\n",
      "\"\"\"\n",
      "\n",
      "\n",
      "# Cell: 12\n",
      "def notebook2md(project_root: str, nb_root: str) -> None:\n",
      "    \"\"\"\n",
      "    Convert all notebooks in the folder.\n",
      "    \n",
      "    :param project_root: The root directory of the project. The default exp path is relative to this folder.\n",
      "    :param nb_root: The root directory of all the notebooks. Only notebooks in this or any subfolder will be considered.\n",
      "    \"\"\"\n",
      "    readme_template = README_TEMPLATE\n",
      "    if os.path.exists(os.path.join(nb_root, \"README_TEMPLATE.md\")):\n",
      "        with open(os.path.join(nb_root, \"README_TEMPLATE.md\"), \"r\") as f:\n",
      "            readme_template = f.read()\n",
      "    else:\n",
      "        print(\"No index.md found, using default template.\")\n",
      "    \n",
      "    notebooks = _get_notebooks(nb_root)\n",
      "    index = []\n",
      "    for nb_path in notebooks:\n",
      "        clean_nb_path = nb_path.replace(nb_root+os.sep, \"\")\n",
      "        print(\"Converting to md: {}\".format(clean_nb_path))\n",
      "        notebook = _get_notebook(nb_path)\n",
      "        index.append(_write_md(project_root, notebook))\n",
      "    \n",
      "    index = sorted(index, key=lambda x: x[1])\n",
      "    \n",
      "    if len(index) > 0:\n",
      "        with open(os.path.join(project_root, \"README.md\"), \"w\") as f:\n",
      "            toc = \"\"\n",
      "            for i in index:\n",
      "                toc += \"* [{}](docs/{})\\n\".format(i[1], i[0])\n",
      "            readme_template = readme_template.format(toc)\n",
      "            f.write(readme_template)\n",
      "\n"
     ]
    }
   ],
   "source": [
    "#hide\n",
    "print(_combine_cells_to_code(cells, file_path))"
   ]
  },
  {
   "cell_type": "markdown",
   "metadata": {},
   "source": [
    "#hide\n",
    "\n",
    "## Writing the code\n",
    "\n",
    "Now the next step is to write the python file. For this we need to know the project root, the notebook and the filepath where the notebook was saved.\n",
    "With that info we can create the python code and save it in the correct location relative to the project root."
   ]
  },
  {
   "cell_type": "code",
   "execution_count": 13,
   "metadata": {},
   "outputs": [],
   "source": [
    "#export\n",
    "def _write_py(root: str, notebook, file_path: str) -> None:\n",
    "    exported_cells = _get_exported_cells(notebook)\n",
    "    py_package = _get_default_exp(notebook)\n",
    "    py_path = os.path.join(root, py_package.replace(\".\", os.sep) + \".py\")\n",
    "    code = _combine_cells_to_code(cells, file_path)\n",
    "    package_path = os.path.join(root, os.sep.join(py_package.split(\".\")[:-1]))\n",
    "    os.makedirs(package_path, exist_ok=True)\n",
    "    with open(py_path, \"w\") as f:\n",
    "        f.write(code)"
   ]
  },
  {
   "cell_type": "code",
   "execution_count": 14,
   "metadata": {},
   "outputs": [],
   "source": [
    "#hide\n",
    "_write_py(\"..\", notebook, file_path)"
   ]
  },
  {
   "cell_type": "markdown",
   "metadata": {},
   "source": [
    "## Convert all Notebooks in a Folder to Python\n",
    "\n",
    "One core feature of this library is to convert all notebook files located beneath the `nb_root` folder into python files relative to the `project_root`.\n",
    "For this conversion the notebook is scanned for:\n",
    "\n",
    "1. A code cell which contians `#default_exp python_package.for.this.notebook`\n",
    "2. All code cells where the first line is `#export`\n",
    "\n",
    "Then using the cells marked with `#export` a python file in `python_package/for/this/notebook.py` is created.\n",
    "The generated python file should not be modified and the cell and AUTOGENERATED comments must not be deleted."
   ]
  },
  {
   "cell_type": "code",
   "execution_count": 15,
   "metadata": {},
   "outputs": [],
   "source": [
    "#export\n",
    "def notebook2py(project_root: str, nb_root: str) -> None:\n",
    "    \"\"\"\n",
    "    Convert all notebooks in the folder.\n",
    "    \n",
    "    :param project_root: The root directory of the project. The default exp path is relative to this folder.\n",
    "    :param nb_root: The root directory of all the notebooks. Only notebooks in this or any subfolder will be considered.\n",
    "    \"\"\"\n",
    "    notebooks = _get_notebooks(nb_root)\n",
    "    for nb_path in notebooks:\n",
    "        clean_nb_path = nb_path.replace(nb_root+os.sep, \"\")\n",
    "        print(\"Converting to py: {}\".format(clean_nb_path))\n",
    "        notebook = _get_notebook(nb_path)\n",
    "        _write_py(project_root, notebook, clean_nb_path)"
   ]
  },
  {
   "cell_type": "code",
   "execution_count": 16,
   "metadata": {},
   "outputs": [
    {
     "name": "stdout",
     "output_type": "stream",
     "text": [
      "Converting to py: notebook_convert.ipynb\n"
     ]
    }
   ],
   "source": [
    "notebook2py(\"..\", \".\")"
   ]
  },
  {
   "cell_type": "markdown",
   "metadata": {},
   "source": [
    "#hide\n",
    "\n",
    "# Markdown Conversion\n",
    "\n",
    "This is actually more complicated. For this we will need to find all markdown cells and extract the doc from all #export cells and convert all non export cells to markdown."
   ]
  },
  {
   "cell_type": "code",
   "execution_count": 17,
   "metadata": {},
   "outputs": [],
   "source": [
    "#export\n",
    "def _extract_doc(source:str) -> str:\n",
    "    lines = source.split(\"\\n\")\n",
    "    docs = []\n",
    "    mode = 0\n",
    "    for line in lines:\n",
    "        if mode == 0:\n",
    "            if (\"def \" in line or \"class \" in line) and not (\"def _\" in line or \"class _\" in line):\n",
    "                current_doc = [line, \"\"]\n",
    "                mode = 1\n",
    "        elif mode == 1:\n",
    "            if \"\\\"\\\"\\\"\" in line:\n",
    "                mode = 2\n",
    "            else:\n",
    "                mode = 0\n",
    "                docs.append(current_doc)\n",
    "        elif mode == 2:\n",
    "            if \"\\\"\\\"\\\"\" in line:\n",
    "                mode = 0\n",
    "                docs.append(current_doc)\n",
    "            else:\n",
    "                current_doc[1] += line.lstrip() + \"\\n\"                \n",
    "        \n",
    "    if len(docs) == 0:\n",
    "        return \"\"\n",
    "    \n",
    "    output = \"\"\n",
    "    for doc in docs:\n",
    "        output += \"**\" + doc[0] + \"**\\n\\n\"\n",
    "        output += doc[1].replace(\":param\", \"*\")\n",
    "        output += \"\\n\\n\"\n",
    "        \n",
    "    return output"
   ]
  },
  {
   "cell_type": "code",
   "execution_count": 18,
   "metadata": {},
   "outputs": [],
   "source": [
    "#export\n",
    "def _get_doc(data) -> str:\n",
    "    doc = \"\"\n",
    "    title = None\n",
    "    for cell in data[\"cells\"]:\n",
    "        # Example Cell\n",
    "        if cell[\"cell_type\"] == \"code\" and len(cell[\"source\"]) > 0 and not cell[\"source\"][0].startswith(\"#export\") and not cell[\"source\"][0].startswith(\"#hide\") and not cell[\"source\"][0].startswith(\"#default_exp\"):\n",
    "            doc += \"Example:\\n\"\n",
    "            doc += \"```python\\n\"\n",
    "            for line in cell[\"source\"]:\n",
    "                doc += line\n",
    "            doc += \"\\n```\\n\"\n",
    "            doc += \"Output:\\n\"\n",
    "            doc += \"```\\n\"\n",
    "            for outp in cell[\"outputs\"]:\n",
    "                if \"text\" in outp:\n",
    "                    for entry in outp[\"text\"]:\n",
    "                        doc += entry\n",
    "                if \"traceback\" in outp:\n",
    "                    for entry in outp[\"traceback\"]:\n",
    "                        while entry.find('\\x1b') >= 0:\n",
    "                            start = entry.find('\\x1b')\n",
    "                            end = entry.find(\"m\", start)\n",
    "                            entry = entry[:start] + entry[end+1:]\n",
    "                        doc += entry + \"\\n\"\n",
    "            doc += \"\\n```\\n\"\n",
    "            doc += \"\\n\"\n",
    "\n",
    "        # Export Cell\n",
    "        if cell[\"cell_type\"] == \"code\" and len(cell[\"source\"]) > 0 and cell[\"source\"][0].startswith(\"#export\"):\n",
    "            source = \"\".join(cell[\"source\"])\n",
    "            doc += _extract_doc(source)\n",
    "            \n",
    "        # Regular Markdown Cell\n",
    "        if cell[\"cell_type\"] == \"markdown\" and len(cell[\"source\"]) > 0 and not cell[\"source\"][0].startswith(\"#hide\"):\n",
    "            for line in cell[\"source\"]:\n",
    "                if line.startswith(\"# \") and title is None:\n",
    "                    title = line[2:]\n",
    "                doc += line\n",
    "            doc += \"\\n\\n\"\n",
    "    return doc, title"
   ]
  },
  {
   "cell_type": "code",
   "execution_count": 19,
   "metadata": {},
   "outputs": [
    {
     "data": {
      "text/markdown": [
       "# 01. Convert Notebooks to *.py and *.md\n",
       "\n",
       "> This tool allows conversion from an ipynb notebook into .py or .md files.\n",
       "\n",
       "## Convert all Notebooks in a Folder to Python\n",
       "\n",
       "One core feature of this library is to convert all notebook files located beneath the `nb_root` folder into python files relative to the `project_root`.\n",
       "For this conversion the notebook is scanned for:\n",
       "\n",
       "1. A code cell which contians `#default_exp python_package.for.this.notebook`\n",
       "2. All code cells where the first line is `#export`\n",
       "\n",
       "Then using the cells marked with `#export` a python file in `python_package/for/this/notebook.py` is created.\n",
       "The generated python file should not be modified and the cell and AUTOGENERATED comments must not be deleted.\n",
       "\n",
       "**def notebook2py(project_root: str, nb_root: str) -> None:**\n",
       "\n",
       "Convert all notebooks in the folder.\n",
       "\n",
       "* project_root: The root directory of the project. The default exp path is relative to this folder.\n",
       "* nb_root: The root directory of all the notebooks. Only notebooks in this or any subfolder will be considered.\n",
       "\n",
       "\n",
       "Example:\n",
       "```python\n",
       "notebook2py(\"..\", \".\")\n",
       "```\n",
       "Output:\n",
       "```\n",
       "Converting to py: notebook_convert.ipynb\n",
       "\n",
       "```\n",
       "\n",
       "## Convert all Notebooks in a Folder to Markdown\n",
       "\n",
       "One core feature of this library is to convert all notebook files located beneath the `nb_root` folder into python files relative to the `project_root`.\n",
       "For this conversion the notebook is scanned for:\n",
       "\n",
       "1. A code cell which contians `#default_exp python_package.for.this.notebook` is searched to find the output file name.\n",
       "2. All cells are scanned and based on their type an action is taken:\n",
       "    * `#hide` -> Cell is ignored.\n",
       "    * markdown -> The cell is 1 to 1 copied into the doc.\n",
       "    * `#export` code cell -> The cell is scanned for any public function and class. They are added with their docstring to the markdown.\n",
       "    * other code cell -> The cell is treated as an example and the code and the output are inserted into the markdown.\n",
       "\n",
       "\n",
       "**def notebook2md(project_root: str, nb_root: str) -> None:**\n",
       "\n",
       "Convert all notebooks in the folder.\n",
       "\n",
       "* project_root: The root directory of the project. The default exp path is relative to this folder.\n",
       "* nb_root: The root directory of all the notebooks. Only notebooks in this or any subfolder will be considered.\n",
       "\n",
       "\n",
       "Example:\n",
       "```python\n",
       "notebook2md(\"..\", \".\")\n",
       "```\n",
       "Output:\n",
       "```\n",
       "Converting to md: notebook_convert.ipynb\n",
       "\n",
       "```\n",
       "\n"
      ],
      "text/plain": [
       "<IPython.core.display.Markdown object>"
      ]
     },
     "execution_count": 19,
     "metadata": {},
     "output_type": "execute_result"
    }
   ],
   "source": [
    "#hide\n",
    "from IPython.display import Markdown as md\n",
    "notebook = _get_notebook(file_path)\n",
    "md(_get_doc(notebook)[0])"
   ]
  },
  {
   "cell_type": "code",
   "execution_count": 20,
   "metadata": {},
   "outputs": [],
   "source": [
    "#export\n",
    "def _write_md(root: str, notebook) -> str:\n",
    "    doc_path = os.path.join(root, \"docs\")\n",
    "    os.makedirs(doc_path, exist_ok=True)\n",
    "    \n",
    "    md_name = _get_default_exp(notebook) + \".md\"\n",
    "    md_path = os.path.join(root, \"docs\", md_name)\n",
    "    doc, title = _get_doc(notebook)\n",
    "    with open(md_path, \"w\") as f:\n",
    "        f.write(doc)\n",
    "    return md_name, title"
   ]
  },
  {
   "cell_type": "code",
   "execution_count": 21,
   "metadata": {},
   "outputs": [
    {
     "data": {
      "text/plain": [
       "('professional_notebooks.notebook_convert.md',\n",
       " '01. Convert Notebooks to *.py and *.md\\n')"
      ]
     },
     "execution_count": 21,
     "metadata": {},
     "output_type": "execute_result"
    }
   ],
   "source": [
    "#hide\n",
    "_write_md(\"..\", _get_notebook(\"notebook_convert.ipynb\"))"
   ]
  },
  {
   "cell_type": "markdown",
   "metadata": {},
   "source": [
    "## Convert all Notebooks in a Folder to Markdown\n",
    "\n",
    "One core feature of this library is to convert all notebook files located beneath the `nb_root` folder into python files relative to the `project_root`.\n",
    "For this conversion the notebook is scanned for:\n",
    "\n",
    "1. A code cell which contians `#default_exp python_package.for.this.notebook` is searched to find the output file name.\n",
    "2. All cells are scanned and based on their type an action is taken:\n",
    "    * `#hide` -> Cell is ignored.\n",
    "    * markdown -> The cell is 1 to 1 copied into the doc.\n",
    "    * `#export` code cell -> The cell is scanned for any public function and class. They are added with their docstring to the markdown.\n",
    "    * other code cell -> The cell is treated as an example and the code and the output are inserted into the markdown.\n"
   ]
  },
  {
   "cell_type": "code",
   "execution_count": 22,
   "metadata": {},
   "outputs": [],
   "source": [
    "#export\n",
    "README_TEMPLATE = \"\"\"# Documentation\n",
    "\n",
    "## Documentation\n",
    "\n",
    "{}\n",
    "\"\"\""
   ]
  },
  {
   "cell_type": "code",
   "execution_count": 23,
   "metadata": {},
   "outputs": [],
   "source": [
    "#export\n",
    "def notebook2md(project_root: str, nb_root: str) -> None:\n",
    "    \"\"\"\n",
    "    Convert all notebooks in the folder.\n",
    "    \n",
    "    :param project_root: The root directory of the project. The default exp path is relative to this folder.\n",
    "    :param nb_root: The root directory of all the notebooks. Only notebooks in this or any subfolder will be considered.\n",
    "    \"\"\"\n",
    "    readme_template = README_TEMPLATE\n",
    "    if os.path.exists(os.path.join(nb_root, \"README_TEMPLATE.md\")):\n",
    "        with open(os.path.join(nb_root, \"README_TEMPLATE.md\"), \"r\") as f:\n",
    "            readme_template = f.read()\n",
    "    else:\n",
    "        print(\"No index.md found, using default template.\")\n",
    "    \n",
    "    notebooks = _get_notebooks(nb_root)\n",
    "    index = []\n",
    "    for nb_path in notebooks:\n",
    "        clean_nb_path = nb_path.replace(nb_root+os.sep, \"\")\n",
    "        print(\"Converting to md: {}\".format(clean_nb_path))\n",
    "        notebook = _get_notebook(nb_path)\n",
    "        index.append(_write_md(project_root, notebook))\n",
    "    \n",
    "    index = sorted(index, key=lambda x: x[1])\n",
    "    \n",
    "    if len(index) > 0:\n",
    "        with open(os.path.join(project_root, \"README.md\"), \"w\") as f:\n",
    "            toc = \"\"\n",
    "            for i in index:\n",
    "                toc += \"* [{}](docs/{})\\n\".format(i[1], i[0])\n",
    "            readme_template = readme_template.format(toc)\n",
    "            f.write(readme_template)"
   ]
  },
  {
   "cell_type": "code",
   "execution_count": 24,
   "metadata": {},
   "outputs": [
    {
     "name": "stdout",
     "output_type": "stream",
     "text": [
      "Converting to md: notebook_convert.ipynb\n"
     ]
    }
   ],
   "source": [
    "notebook2md(\"..\", \".\")"
   ]
  },
  {
   "cell_type": "code",
   "execution_count": null,
   "metadata": {},
   "outputs": [],
   "source": []
  }
 ],
 "metadata": {
  "kernelspec": {
   "display_name": "Python 3",
   "language": "python",
   "name": "python3"
  },
  "language_info": {
   "codemirror_mode": {
    "name": "ipython",
    "version": 3
   },
   "file_extension": ".py",
   "mimetype": "text/x-python",
   "name": "python",
   "nbconvert_exporter": "python",
   "pygments_lexer": "ipython3",
   "version": "3.7.6"
  }
 },
 "nbformat": 4,
 "nbformat_minor": 4
}
